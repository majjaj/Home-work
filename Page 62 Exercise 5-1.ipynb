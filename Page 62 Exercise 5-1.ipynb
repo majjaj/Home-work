{
 "cells": [
  {
   "cell_type": "markdown",
   "metadata": {},
   "source": [
    "**Page 62 Exercise 5-1** In the BRFSS (see Section 5.4), the distribution of heights is roughly normal with parameters µ = 178 cm and σ = 7.7 cm for men, and µ = 163 cm and σ = 7.3 cm for women.\n",
    "\n",
    "In order to join Blue Man Group, you have to be male between 5’10” and 6’1” (see http://bluemancasting.com). What percentage of the U.S. male population is in this range? Hint: use scipy.stats.norm.cdf."
   ]
  },
  {
   "cell_type": "code",
   "execution_count": 21,
   "metadata": {},
   "outputs": [],
   "source": [
    "from scipy.stats import norm\n",
    "import seaborn as sns \n",
    "import matplotlib.pyplot as plt \n",
    "%matplotlib inline \n",
    "\n",
    "#scipy.stats.norm(*args, **kwds) = <scipy.stats._continuous_distns.norm_gen object>[source]\n",
    "#A normal continuous random variable.\n",
    "#The location (loc) keyword specifies the mean. The scale (scale) keyword specifies the standard deviation.\n",
    "\n",
    "\n",
    "#--- we are intrested in the male population with \n",
    "mu = 178\n",
    "sigma = 7.7\n",
    "data = scipy.stats.norm(loc=mu, scale=sigma)\n"
   ]
  },
  {
   "cell_type": "code",
   "execution_count": 34,
   "metadata": {},
   "outputs": [
    {
     "name": "stdout",
     "output_type": "stream",
     "text": [
      "177.8\n",
      "185.4\n"
     ]
    }
   ],
   "source": [
    "#--- convert heit in feet and inches to cm\n",
    "#- 5'10\"\n",
    "min_h_ft = 5\n",
    "min_h_inch = 10\n",
    "min_h_inch += min_h_ft * 12\n",
    "min_h_cm = round(min_h_inch * 2.54,1 )\n",
    "\n",
    "#-- 6'1\"\n",
    "max_h_ft = 6\n",
    "max_h_inch = 1\n",
    "max_h_inch += max_h_ft * 12\n",
    "max_h_cm = round(max_h_inch * 2.54,1 )\n",
    "\n",
    "print(min_h_cm)\n",
    "print(max_h_cm)"
   ]
  },
  {
   "cell_type": "code",
   "execution_count": 38,
   "metadata": {},
   "outputs": [
    {
     "name": "stdout",
     "output_type": "stream",
     "text": [
      "34.21 %\n"
     ]
    }
   ],
   "source": [
    "#What percentage of the U.S. male population is in this range? \n",
    "# Solution\n",
    "\n",
    "low = dist.cdf(min_h_cm)    # 5'10\"\n",
    "high = dist.cdf(max_h_cm)   # 6'1\"\n",
    "print(round((high-low)*100,2),'%')"
   ]
  }
 ],
 "metadata": {
  "kernelspec": {
   "display_name": "Python 3",
   "language": "python",
   "name": "python3"
  },
  "language_info": {
   "codemirror_mode": {
    "name": "ipython",
    "version": 3
   },
   "file_extension": ".py",
   "mimetype": "text/x-python",
   "name": "python",
   "nbconvert_exporter": "python",
   "pygments_lexer": "ipython3",
   "version": "3.8.5"
  }
 },
 "nbformat": 4,
 "nbformat_minor": 4
}
