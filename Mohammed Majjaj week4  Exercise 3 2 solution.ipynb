{
 "cells": [
  {
   "cell_type": "markdown",
   "metadata": {},
   "source": [
    "### Page 36: 3-2 solution:"
   ]
  },
  {
   "cell_type": "code",
   "execution_count": null,
   "metadata": {},
   "outputs": [],
   "source": [
    "from __future__ import print_function, division\n",
    "\n",
    "%matplotlib inline\n",
    "\n",
    "import numpy as np\n",
    "\n",
    "import nsfg\n",
    "import first\n",
    "import thinkstats2\n",
    "import thinkplot"
   ]
  },
  {
   "cell_type": "code",
   "execution_count": 2,
   "metadata": {},
   "outputs": [],
   "source": [
    "resp = nsfg.ReadFemResp()\n",
    "numchild = resp[resp.numkdhh <18] # to make sure we include only age under 18."
   ]
  },
  {
   "cell_type": "code",
   "execution_count": 13,
   "metadata": {},
   "outputs": [
    {
     "data": {
      "image/png": "[encoded data removed]",
      "text/plain": [
       "<Figure size 432x288 with 1 Axes>"
      ]
     },
     "metadata": {
      "needs_background": "light"
     },
     "output_type": "display_data"
    }
   ],
   "source": [
    "pmf = thinkstats2.Pmf(numchild.numkdhh, label='numkdhh')\n",
    "thinkplot.Hist(pmf)\n",
    "thinkplot.Config(xlabel='Number of childs', ylabel='Pmf')"
   ]
  },
  {
   "cell_type": "code",
   "execution_count": 7,
   "metadata": {},
   "outputs": [
    {
     "name": "stdout",
     "output_type": "stream",
     "text": [
      "mean 1.024205155043831\n",
      "mean 1.4128643263531195\n"
     ]
    }
   ],
   "source": [
    "print('mean', pmf.Mean())\n",
    "print('mean', pmf.Var())"
   ]
  },
  {
   "cell_type": "code",
   "execution_count": 10,
   "metadata": {},
   "outputs": [
    {
     "data": {
      "text/plain": [
       "dict_items([(0, 0.466178202276593), (1, 0.21405207379301322), (2, 0.19625801386889966), (3, 0.08713855815779145), (4, 0.025644380478869556), (5, 0.01072877142483318)])"
      ]
     },
     "execution_count": 10,
     "metadata": {},
     "output_type": "execute_result"
    }
   ],
   "source": [
    "pmf.Items()"
   ]
  },
  {
   "cell_type": "markdown",
   "metadata": {},
   "source": [
    "#### writing a functions called PmfMean and PmfVar."
   ]
  },
  {
   "cell_type": "code",
   "execution_count": 36,
   "metadata": {},
   "outputs": [],
   "source": [
    "def PmfMean(Pmf):\n",
    "    mean = 0\n",
    "    for x,p in pmf.Items():\n",
    "        mean= mean + (x * p)\n",
    "    return print('mean', mean)\n",
    "\n",
    "def PmfVar(Pmf):\n",
    "    \n",
    "    mean = 0\n",
    "    for x,p in pmf.Items():\n",
    "        mean= mean + (x * p)\n",
    "  \n",
    "    var = 0\n",
    "    for x,p in pmf.Items():\n",
    "        var= var + ( p * (x - mean)**2)\n",
    "    return print('Var', var)\n"
   ]
  },
  {
   "cell_type": "code",
   "execution_count": 37,
   "metadata": {},
   "outputs": [
    {
     "name": "stdout",
     "output_type": "stream",
     "text": [
      "mean 1.024205155043831\n",
      "Var 1.4128643263531195\n"
     ]
    }
   ],
   "source": [
    "PmfMean(pmf)\n",
    "PmfVar(pmf)"
   ]
  },
  {
   "cell_type": "markdown",
   "metadata": {},
   "source": [
    "my functions provide same result as the pmf methods ( mean and var)"
   ]
  },
  {
   "cell_type": "code",
   "execution_count": null,
   "metadata": {},
   "outputs": [],
   "source": []
  }
 ],
 "metadata": {
  "kernelspec": {
   "display_name": "Python 3",
   "language": "python",
   "name": "python3"
  },
  "language_info": {
   "codemirror_mode": {
    "name": "ipython",
    "version": 3
   },
   "file_extension": ".py",
   "mimetype": "text/x-python",
   "name": "python",
   "nbconvert_exporter": "python",
   "pygments_lexer": "ipython3",
   "version": "3.8.5"
  }
 },
 "nbformat": 4,
 "nbformat_minor": 4
}
