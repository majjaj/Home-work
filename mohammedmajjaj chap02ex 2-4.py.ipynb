{
 "cells": [
  {
   "cell_type": "code",
   "execution_count": 90,
   "metadata": {},
   "outputs": [],
   "source": [
    "# loaded needed packages and the data.\n",
    "import sys\n",
    "import numpy as np\n",
    "import thinkstats2\n",
    "import thinkplot\n",
    "%matplotlib inline\n",
    "\n",
    "from collections import defaultdict\n",
    "\n",
    "dct_file='D:/data science/classes/DSC530 Exploratory_Data_Analysis/thinkstats/ThinkStats2-master/code/2002FemPreg.dct'\n",
    "dat_file='D:/data science/classes/DSC530 Exploratory_Data_Analysis/thinkstats/ThinkStats2-master/code/2002FemPreg.dat.gz'\n",
    "\n",
    "nrows=None\n",
    "\n",
    "\n",
    "df: pregnancy DataFrame\n",
    "\n",
    "dct = thinkstats2.ReadStataDct(dct_file)\n",
    "df = dct.ReadFixedWidth(dat_file, compression='gzip', nrows=nrows)\n"
   ]
  },
  {
   "cell_type": "code",
   "execution_count": 18,
   "metadata": {},
   "outputs": [
    {
     "data": {
      "text/html": [
       "<div>\n",
       "<style scoped>\n",
       "    .dataframe tbody tr th:only-of-type {\n",
       "        vertical-align: middle;\n",
       "    }\n",
       "\n",
       "    .dataframe tbody tr th {\n",
       "        vertical-align: top;\n",
       "    }\n",
       "\n",
       "    .dataframe thead th {\n",
       "        text-align: right;\n",
       "    }\n",
       "</style>\n",
       "<table border=\"1\" class=\"dataframe\">\n",
       "  <thead>\n",
       "    <tr style=\"text-align: right;\">\n",
       "      <th></th>\n",
       "      <th>caseid</th>\n",
       "      <th>pregordr</th>\n",
       "      <th>howpreg_n</th>\n",
       "      <th>howpreg_p</th>\n",
       "      <th>moscurrp</th>\n",
       "      <th>nowprgdk</th>\n",
       "      <th>pregend1</th>\n",
       "      <th>pregend2</th>\n",
       "      <th>nbrnaliv</th>\n",
       "      <th>multbrth</th>\n",
       "      <th>...</th>\n",
       "      <th>laborfor_i</th>\n",
       "      <th>religion_i</th>\n",
       "      <th>metro_i</th>\n",
       "      <th>basewgt</th>\n",
       "      <th>adj_mod_basewgt</th>\n",
       "      <th>finalwgt</th>\n",
       "      <th>secu_p</th>\n",
       "      <th>sest</th>\n",
       "      <th>cmintvw</th>\n",
       "      <th>totalwgt_lb</th>\n",
       "    </tr>\n",
       "  </thead>\n",
       "  <tbody>\n",
       "    <tr>\n",
       "      <th>0</th>\n",
       "      <td>1</td>\n",
       "      <td>1</td>\n",
       "      <td>NaN</td>\n",
       "      <td>NaN</td>\n",
       "      <td>NaN</td>\n",
       "      <td>NaN</td>\n",
       "      <td>6.0</td>\n",
       "      <td>NaN</td>\n",
       "      <td>1.0</td>\n",
       "      <td>NaN</td>\n",
       "      <td>...</td>\n",
       "      <td>0</td>\n",
       "      <td>0</td>\n",
       "      <td>0</td>\n",
       "      <td>3410.389399</td>\n",
       "      <td>3869.349602</td>\n",
       "      <td>6448.271112</td>\n",
       "      <td>2</td>\n",
       "      <td>9</td>\n",
       "      <td>1231</td>\n",
       "      <td>8.8125</td>\n",
       "    </tr>\n",
       "    <tr>\n",
       "      <th>1</th>\n",
       "      <td>1</td>\n",
       "      <td>2</td>\n",
       "      <td>NaN</td>\n",
       "      <td>NaN</td>\n",
       "      <td>NaN</td>\n",
       "      <td>NaN</td>\n",
       "      <td>6.0</td>\n",
       "      <td>NaN</td>\n",
       "      <td>1.0</td>\n",
       "      <td>NaN</td>\n",
       "      <td>...</td>\n",
       "      <td>0</td>\n",
       "      <td>0</td>\n",
       "      <td>0</td>\n",
       "      <td>3410.389399</td>\n",
       "      <td>3869.349602</td>\n",
       "      <td>6448.271112</td>\n",
       "      <td>2</td>\n",
       "      <td>9</td>\n",
       "      <td>1231</td>\n",
       "      <td>7.8750</td>\n",
       "    </tr>\n",
       "    <tr>\n",
       "      <th>2</th>\n",
       "      <td>2</td>\n",
       "      <td>1</td>\n",
       "      <td>NaN</td>\n",
       "      <td>NaN</td>\n",
       "      <td>NaN</td>\n",
       "      <td>NaN</td>\n",
       "      <td>5.0</td>\n",
       "      <td>NaN</td>\n",
       "      <td>3.0</td>\n",
       "      <td>5.0</td>\n",
       "      <td>...</td>\n",
       "      <td>0</td>\n",
       "      <td>0</td>\n",
       "      <td>0</td>\n",
       "      <td>7226.301740</td>\n",
       "      <td>8567.549110</td>\n",
       "      <td>12999.542264</td>\n",
       "      <td>2</td>\n",
       "      <td>12</td>\n",
       "      <td>1231</td>\n",
       "      <td>9.1250</td>\n",
       "    </tr>\n",
       "    <tr>\n",
       "      <th>3</th>\n",
       "      <td>2</td>\n",
       "      <td>2</td>\n",
       "      <td>NaN</td>\n",
       "      <td>NaN</td>\n",
       "      <td>NaN</td>\n",
       "      <td>NaN</td>\n",
       "      <td>6.0</td>\n",
       "      <td>NaN</td>\n",
       "      <td>1.0</td>\n",
       "      <td>NaN</td>\n",
       "      <td>...</td>\n",
       "      <td>0</td>\n",
       "      <td>0</td>\n",
       "      <td>0</td>\n",
       "      <td>7226.301740</td>\n",
       "      <td>8567.549110</td>\n",
       "      <td>12999.542264</td>\n",
       "      <td>2</td>\n",
       "      <td>12</td>\n",
       "      <td>1231</td>\n",
       "      <td>7.0000</td>\n",
       "    </tr>\n",
       "    <tr>\n",
       "      <th>4</th>\n",
       "      <td>2</td>\n",
       "      <td>3</td>\n",
       "      <td>NaN</td>\n",
       "      <td>NaN</td>\n",
       "      <td>NaN</td>\n",
       "      <td>NaN</td>\n",
       "      <td>6.0</td>\n",
       "      <td>NaN</td>\n",
       "      <td>1.0</td>\n",
       "      <td>NaN</td>\n",
       "      <td>...</td>\n",
       "      <td>0</td>\n",
       "      <td>0</td>\n",
       "      <td>0</td>\n",
       "      <td>7226.301740</td>\n",
       "      <td>8567.549110</td>\n",
       "      <td>12999.542264</td>\n",
       "      <td>2</td>\n",
       "      <td>12</td>\n",
       "      <td>1231</td>\n",
       "      <td>6.1875</td>\n",
       "    </tr>\n",
       "  </tbody>\n",
       "</table>\n",
       "<p>5 rows × 244 columns</p>\n",
       "</div>"
      ],
      "text/plain": [
       "   caseid  pregordr  howpreg_n  howpreg_p  moscurrp  nowprgdk  pregend1  \\\n",
       "0       1         1        NaN        NaN       NaN       NaN       6.0   \n",
       "1       1         2        NaN        NaN       NaN       NaN       6.0   \n",
       "2       2         1        NaN        NaN       NaN       NaN       5.0   \n",
       "3       2         2        NaN        NaN       NaN       NaN       6.0   \n",
       "4       2         3        NaN        NaN       NaN       NaN       6.0   \n",
       "\n",
       "   pregend2  nbrnaliv  multbrth  ...  laborfor_i  religion_i  metro_i  \\\n",
       "0       NaN       1.0       NaN  ...           0           0        0   \n",
       "1       NaN       1.0       NaN  ...           0           0        0   \n",
       "2       NaN       3.0       5.0  ...           0           0        0   \n",
       "3       NaN       1.0       NaN  ...           0           0        0   \n",
       "4       NaN       1.0       NaN  ...           0           0        0   \n",
       "\n",
       "       basewgt  adj_mod_basewgt      finalwgt  secu_p  sest  cmintvw  \\\n",
       "0  3410.389399      3869.349602   6448.271112       2     9     1231   \n",
       "1  3410.389399      3869.349602   6448.271112       2     9     1231   \n",
       "2  7226.301740      8567.549110  12999.542264       2    12     1231   \n",
       "3  7226.301740      8567.549110  12999.542264       2    12     1231   \n",
       "4  7226.301740      8567.549110  12999.542264       2    12     1231   \n",
       "\n",
       "   totalwgt_lb  \n",
       "0       8.8125  \n",
       "1       7.8750  \n",
       "2       9.1250  \n",
       "3       7.0000  \n",
       "4       6.1875  \n",
       "\n",
       "[5 rows x 244 columns]"
      ]
     },
     "execution_count": 18,
     "metadata": {},
     "output_type": "execute_result"
    }
   ],
   "source": [
    "#added the column that we are going to study \n",
    "df['totalwgt_lb'] = df.birthwgt_lb + df.birthwgt_oz / 16.0\n",
    "df.head()"
   ]
  },
  {
   "cell_type": "code",
   "execution_count": 23,
   "metadata": {},
   "outputs": [],
   "source": [
    "#created data frame with outcome equal 1 which is the pregnancy had a live a baby.\n",
    "live = df[df.outcome == 1]\n",
    "\n",
    "#created data frame for first babies\n",
    "first_baby = live[live.birthord ==1]\n",
    "\n",
    "#created data frame for other babies\n",
    "others = live[live.birthord !=1]\n"
   ]
  },
  {
   "cell_type": "code",
   "execution_count": 37,
   "metadata": {},
   "outputs": [
    {
     "data": {
      "image/png": "[encoded data removed]",
      "text/plain": [
       "<Figure size 432x288 with 1 Axes>"
      ]
     },
     "metadata": {
      "needs_background": "light"
     },
     "output_type": "display_data"
    },
    {
     "data": {
      "text/plain": [
       "<Figure size 576x432 with 0 Axes>"
      ]
     },
     "metadata": {},
     "output_type": "display_data"
    }
   ],
   "source": [
    "# computing the frenquency of first babies\n",
    "\n",
    "first_hist = thinkstats2.Hist(first_baby.totalwgt_lb)\n",
    "\n",
    "# plotting the hist\n",
    "\n",
    "thinkplot.Hist(first_hist)\n",
    "\n",
    "thinkplot.show(xlabel='weight', ylabel='frequency')\n",
    "\n"
   ]
  },
  {
   "cell_type": "markdown",
   "metadata": {},
   "source": [
    "from the result above it looks like there is outliers."
   ]
  },
  {
   "cell_type": "code",
   "execution_count": 40,
   "metadata": {},
   "outputs": [
    {
     "name": "stdout",
     "output_type": "stream",
     "text": [
      "104.125 1\n",
      "15.4375 1\n",
      "15.1875 2\n",
      "14.1875 1\n",
      "14.0 1\n",
      "13.75 1\n",
      "13.1875 5\n",
      "12.5 1\n",
      "12.375 2\n",
      "12.1875 6\n"
     ]
    }
   ],
   "source": [
    "# checking if there is any outliers.\n",
    "\n",
    "for weight, freq in first_hist.Largest(10):\n",
    "    print(weight,freq)"
   ]
  },
  {
   "cell_type": "markdown",
   "metadata": {},
   "source": [
    "it looks we have an errors in the data.  a baby weight 104.125lb\\\n",
    "will remove this data point from data frame and plot again the histogram for first babies "
   ]
  },
  {
   "cell_type": "code",
   "execution_count": 41,
   "metadata": {},
   "outputs": [
    {
     "name": "stdout",
     "output_type": "stream",
     "text": [
      "15.4375 1\n",
      "15.1875 2\n",
      "14.1875 1\n",
      "14.0 1\n",
      "13.75 1\n",
      "13.1875 5\n",
      "12.5 1\n",
      "12.375 2\n",
      "12.1875 6\n",
      "12.0 3\n"
     ]
    }
   ],
   "source": [
    "first_baby = first_baby[first_baby.totalwgt_lb <20]\n",
    "\n",
    "first_hist = thinkstats2.Hist(first_baby.totalwgt_lb)\n",
    "for weight, freq in first_hist.Largest(10):\n",
    "    print(weight,freq)"
   ]
  },
  {
   "cell_type": "markdown",
   "metadata": {},
   "source": [
    "it looks like that we got rid of that data point.\n",
    "lets plot the histogram one more time."
   ]
  },
  {
   "cell_type": "code",
   "execution_count": 55,
   "metadata": {},
   "outputs": [
    {
     "data": {
      "image/png": "[encoded data removed]",
      "text/plain": [
       "<Figure size 432x288 with 1 Axes>"
      ]
     },
     "metadata": {
      "needs_background": "light"
     },
     "output_type": "display_data"
    },
    {
     "data": {
      "text/plain": [
       "<Figure size 576x432 with 0 Axes>"
      ]
     },
     "metadata": {},
     "output_type": "display_data"
    }
   ],
   "source": [
    "# plotting the hist of first babies weight\n",
    "\n",
    "thinkplot.Hist(first_hist,)\n",
    "thinkplot.show(xlabel='weight', ylabel='frequency')"
   ]
  },
  {
   "cell_type": "markdown",
   "metadata": {},
   "source": [
    "the shape of this histogram looks more of a normal distribution"
   ]
  },
  {
   "cell_type": "code",
   "execution_count": 57,
   "metadata": {},
   "outputs": [
    {
     "data": {
      "image/png": "[encoded data removed]",
      "text/plain": [
       "<Figure size 432x288 with 1 Axes>"
      ]
     },
     "metadata": {
      "needs_background": "light"
     },
     "output_type": "display_data"
    },
    {
     "data": {
      "text/plain": [
       "<Figure size 576x432 with 0 Axes>"
      ]
     },
     "metadata": {},
     "output_type": "display_data"
    }
   ],
   "source": [
    "# computing the frenquency of other other babies\n",
    "\n",
    "\n",
    "other_hist = thinkstats2.Hist(others.totalwgt_lb)\n",
    "\n",
    "# plotting the hist\n",
    "\n",
    "thinkplot.Hist(other_hist)\n",
    "thinkplot.show(xlabel='weight', ylabel='frequency')"
   ]
  },
  {
   "cell_type": "markdown",
   "metadata": {},
   "source": [
    "from the result above it looks like there is outliers."
   ]
  },
  {
   "cell_type": "code",
   "execution_count": 58,
   "metadata": {},
   "outputs": [
    {
     "name": "stdout",
     "output_type": "stream",
     "text": [
      "103.0625 1\n",
      "51.375 1\n",
      "15.1875 1\n",
      "14.1875 7\n",
      "14.0 2\n",
      "13.5 1\n",
      "13.1875 13\n",
      "13.0 1\n",
      "12.1875 5\n",
      "12.0 2\n"
     ]
    }
   ],
   "source": [
    "# checking if there is any outliers.\n",
    "\n",
    "for weight, freq in other_hist.Largest(10):\n",
    "    print(weight,freq)"
   ]
  },
  {
   "cell_type": "markdown",
   "metadata": {},
   "source": [
    "it looks we have an errors in the data. a baby weight 103.0625lb and 51.375lb\\\n",
    "will remove this data point from data frame and plot again the histogram for first babies"
   ]
  },
  {
   "cell_type": "code",
   "execution_count": 60,
   "metadata": {},
   "outputs": [
    {
     "name": "stdout",
     "output_type": "stream",
     "text": [
      "15.1875 1\n",
      "14.1875 7\n",
      "14.0 2\n",
      "13.5 1\n",
      "13.1875 13\n",
      "13.0 1\n",
      "12.1875 5\n",
      "12.0 2\n",
      "11.9375 1\n",
      "11.75 1\n"
     ]
    }
   ],
   "source": [
    "others = others[others.totalwgt_lb <20]\n",
    "\n",
    "other_hist = thinkstats2.Hist(others.totalwgt_lb)\n",
    "for weight, freq in other_hist.Largest(10):\n",
    "    print(weight,freq)"
   ]
  },
  {
   "cell_type": "markdown",
   "metadata": {},
   "source": [
    "it looks like that we got rid of that data point.\n",
    "lets plot the histogram one more time."
   ]
  },
  {
   "cell_type": "code",
   "execution_count": 61,
   "metadata": {},
   "outputs": [
    {
     "data": {
      "image/png": "[encoded data removed]",
      "text/plain": [
       "<Figure size 432x288 with 1 Axes>"
      ]
     },
     "metadata": {
      "needs_background": "light"
     },
     "output_type": "display_data"
    },
    {
     "data": {
      "text/plain": [
       "<Figure size 576x432 with 0 Axes>"
      ]
     },
     "metadata": {},
     "output_type": "display_data"
    }
   ],
   "source": [
    "# computing the frenquency of other other babies\n",
    "\n",
    "other_hist = thinkstats2.Hist(others.totalwgt_lb)\n",
    "\n",
    "# plotting the hist\n",
    "\n",
    "thinkplot.Hist(other_hist)\n",
    "thinkplot.show(xlabel='weight', ylabel='frequency')"
   ]
  },
  {
   "cell_type": "code",
   "execution_count": 99,
   "metadata": {},
   "outputs": [
    {
     "data": {
      "image/png": "[encoded data removed]",
      "text/plain": [
       "<Figure size 432x288 with 1 Axes>"
      ]
     },
     "metadata": {
      "needs_background": "light"
     },
     "output_type": "display_data"
    }
   ],
   "source": [
    "\n",
    "#rounding total weight before plotting\n",
    "\n",
    "first2 = np.floor(first_baby.totalwgt_lb)\n",
    "other2 = np.floor(others.totalwgt_lb)\n",
    "\n",
    "# computing the frenquency of first babies and others\n",
    "first_hist2 = thinkstats2.Hist(first2)\n",
    "other_hist2 = thinkstats2.Hist(other2)\n",
    "\n",
    "# plotting the hist\n",
    "\n",
    "thinkplot.PrePlot(2)\n",
    "thinkplot.Hist(first_hist2, align='left', width = 0.45)\n",
    "thinkplot.Hist(other_hist2, align='right', width = 0.45)\n",
    "\n",
    "thinkplot.Config(xlabel='weight', ylabel='frequency',xlim=[0, 17])"
   ]
  },
  {
   "cell_type": "code",
   "execution_count": 84,
   "metadata": {},
   "outputs": [
    {
     "name": "stdout",
     "output_type": "stream",
     "text": [
      "count    4380.000000\n",
      "mean        7.220905\n",
      "std         1.458378\n",
      "min         0.125000\n",
      "25%         6.437500\n",
      "50%         7.312500\n",
      "75%         8.000000\n",
      "max        15.437500\n",
      "Name: totalwgt_lb, dtype: float64\n"
     ]
    }
   ],
   "source": [
    "# the summary discription \n",
    "print (first_baby.totalwgt_lb.describe())"
   ]
  },
  {
   "cell_type": "code",
   "execution_count": 85,
   "metadata": {},
   "outputs": [
    {
     "name": "stdout",
     "output_type": "stream",
     "text": [
      "count    4704.000000\n",
      "mean        7.361355\n",
      "std         1.463537\n",
      "min         0.562500\n",
      "25%         6.500000\n",
      "50%         7.375000\n",
      "75%         8.250000\n",
      "max        15.187500\n",
      "Name: totalwgt_lb, dtype: float64\n"
     ]
    }
   ],
   "source": [
    "# the summary discription \n",
    "print (others.totalwgt_lb.describe())"
   ]
  },
  {
   "cell_type": "markdown",
   "metadata": {},
   "source": [
    "### descriptive statistics\n",
    "\n",
    "on average the total weight for first_baby  is 7.22lb  with a standard deviation 1.46lb\\\n",
    "on average the total weight for others      is 7.36lb  with a standard deviation 1.46lb\n",
    "\n",
    "the diffrence between average weight of first babies and others is: 7.22 - 7.36 = <b>-0.14lb</b>\\\n",
    "it looks like the other babies are <b>ligher</b> than first babies on average  by 0.14lb\n",
    "the two groups have the same Standard deviation 1.46lb"
   ]
  },
  {
   "cell_type": "markdown",
   "metadata": {},
   "source": [
    "### Effect Size calculations"
   ]
  },
  {
   "cell_type": "code",
   "execution_count": 98,
   "metadata": {},
   "outputs": [
    {
     "data": {
      "text/plain": [
       "-0.09612938700275275"
      ]
     },
     "execution_count": 98,
     "metadata": {},
     "output_type": "execute_result"
    }
   ],
   "source": [
    "# Computes Cohen's effect size for both groups.\n",
    "\n",
    "group1 = first_baby.totalwgt_lb\n",
    "group2 = others.totalwgt_lb\n",
    "\n",
    "diff = group1.mean() - group2.mean()\n",
    "\n",
    "var1 = group1.var()\n",
    "var2 = group2.var()\n",
    "n1, n2 = len(group1), len(group2)\n",
    "\n",
    "pooled_var = (n1 * var1 + n2 * var2) / (n1 + n2)\n",
    "d = diff / np.sqrt(pooled_var)\n",
    "d"
   ]
  },
  {
   "cell_type": "markdown",
   "metadata": {},
   "source": [
    "Cohen’s d statistic <b>-0.096</b> confirms that first babies on average are lighter than other babies and tell us the effect of size of both Groups is only 0.096 standard deviation which is very small. "
   ]
  },
  {
   "cell_type": "markdown",
   "metadata": {},
   "source": [
    "###  how does it compare to the diffrence in pregnancy length ?\n",
    "\n",
    "pregnancy length study revealed that first babies are late but not that late because the difference in average was just 13hours with effect size Cohen’s d equal to 0.029 standard deviation which is very small.\n",
    "\n",
    "Total weight study revealed that first babies are lighter on average by 0.14lb with effect size Cohen’s d equal to 0.096 standard deviation which is also very small.\n",
    "\n",
    "First study had a positive direction of the difference +13hours which means late to be born.\\\n",
    "Second study had a negative difference -0.14lb which means lighter weight with same standard deviation for both groups. Which was very interesting and helped to compare both groups\n"
   ]
  },
  {
   "cell_type": "markdown",
   "metadata": {},
   "source": []
  }
 ],
 "metadata": {
  "kernelspec": {
   "display_name": "Python 3",
   "language": "python",
   "name": "python3"
  },
  "language_info": {
   "codemirror_mode": {
    "name": "ipython",
    "version": 3
   },
   "file_extension": ".py",
   "mimetype": "text/x-python",
   "name": "python",
   "nbconvert_exporter": "python",
   "pygments_lexer": "ipython3",
   "version": "3.8.5"
  }
 },
 "nbformat": 4,
 "nbformat_minor": 4
}
