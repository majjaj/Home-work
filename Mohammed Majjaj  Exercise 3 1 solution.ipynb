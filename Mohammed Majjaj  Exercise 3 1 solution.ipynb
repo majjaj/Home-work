{
 "cells": [
  {
   "cell_type": "markdown",
   "metadata": {},
   "source": [
    "### Page 35-36: 3-1 solution:"
   ]
  },
  {
   "cell_type": "markdown",
   "metadata": {},
   "source": [
    "**Exercise:** Something like the class size paradox appears if you survey children and ask how many children are in their family. Families with many children are more likely to appear in your sample, and families with no children have no chance to be in the sample.\n",
    "\n",
    "Use the NSFG respondent variable `numkdhh` to construct the actual distribution for the number of children under 18 in the respondents' households.\n",
    "\n",
    "Now compute the biased distribution we would see if we surveyed the children and asked them how many children under 18 (including themselves) are in their household.\n",
    "\n",
    "Plot the actual and biased distributions, and compute their means."
   ]
  },
  {
   "cell_type": "code",
   "execution_count": 10,
   "metadata": {},
   "outputs": [],
   "source": [
    "from __future__ import print_function, division\n",
    "\n",
    "%matplotlib inline\n",
    "\n",
    "import numpy as np\n",
    "\n",
    "import nsfg\n",
    "import first\n",
    "import thinkstats2\n",
    "import thinkplot"
   ]
  },
  {
   "cell_type": "markdown",
   "metadata": {},
   "source": [
    "### construct the actual distribution for the number of children under 18 in the respondents' households.\n",
    "\n",
    "I'll load the NSFG pregnancy file and select numkdhh for the number of children under 18 :  [codebook](https://www.icpsr.umich.edu/nsfg6/Controller?displayPage=labelDetails&fileCode=FEM&section=R&subSec=7868&srtLabel=606815)"
   ]
  },
  {
   "cell_type": "code",
   "execution_count": 12,
   "metadata": {},
   "outputs": [],
   "source": [
    "resp = nsfg.ReadFemResp()\n",
    "numchild = resp[resp.numkdhh <18] # to make sure we include only age under 18."
   ]
  },
  {
   "cell_type": "code",
   "execution_count": 34,
   "metadata": {},
   "outputs": [
    {
     "data": {
      "text/html": [
       "<div>\n",
       "<style scoped>\n",
       "    .dataframe tbody tr th:only-of-type {\n",
       "        vertical-align: middle;\n",
       "    }\n",
       "\n",
       "    .dataframe tbody tr th {\n",
       "        vertical-align: top;\n",
       "    }\n",
       "\n",
       "    .dataframe thead th {\n",
       "        text-align: right;\n",
       "    }\n",
       "</style>\n",
       "<table border=\"1\" class=\"dataframe\">\n",
       "  <thead>\n",
       "    <tr style=\"text-align: right;\">\n",
       "      <th></th>\n",
       "      <th>caseid</th>\n",
       "      <th>rscrinf</th>\n",
       "      <th>rdormres</th>\n",
       "      <th>rostscrn</th>\n",
       "      <th>rscreenhisp</th>\n",
       "      <th>rscreenrace</th>\n",
       "      <th>age_a</th>\n",
       "      <th>age_r</th>\n",
       "      <th>cmbirth</th>\n",
       "      <th>agescrn</th>\n",
       "      <th>...</th>\n",
       "      <th>totincr_i</th>\n",
       "      <th>pubassis_i</th>\n",
       "      <th>basewgt</th>\n",
       "      <th>adj_mod_basewgt</th>\n",
       "      <th>finalwgt</th>\n",
       "      <th>secu_r</th>\n",
       "      <th>sest</th>\n",
       "      <th>cmintvw</th>\n",
       "      <th>cmlstyr</th>\n",
       "      <th>intvlngth</th>\n",
       "    </tr>\n",
       "  </thead>\n",
       "  <tbody>\n",
       "    <tr>\n",
       "      <th>count</th>\n",
       "      <td>7643.000000</td>\n",
       "      <td>7643.000000</td>\n",
       "      <td>7643.000000</td>\n",
       "      <td>7643.000000</td>\n",
       "      <td>7643.000000</td>\n",
       "      <td>7636.000000</td>\n",
       "      <td>7643.000000</td>\n",
       "      <td>7643.000000</td>\n",
       "      <td>7643.000000</td>\n",
       "      <td>7643.000000</td>\n",
       "      <td>...</td>\n",
       "      <td>7643.000000</td>\n",
       "      <td>7643.000000</td>\n",
       "      <td>7643.000000</td>\n",
       "      <td>7643.000000</td>\n",
       "      <td>7643.000000</td>\n",
       "      <td>7643.00000</td>\n",
       "      <td>7643.000000</td>\n",
       "      <td>7643.000000</td>\n",
       "      <td>7643.000000</td>\n",
       "      <td>7643.000000</td>\n",
       "    </tr>\n",
       "    <tr>\n",
       "      <th>mean</th>\n",
       "      <td>6272.107811</td>\n",
       "      <td>2.589952</td>\n",
       "      <td>4.901086</td>\n",
       "      <td>3.210258</td>\n",
       "      <td>4.207641</td>\n",
       "      <td>4.543740</td>\n",
       "      <td>29.501374</td>\n",
       "      <td>29.503729</td>\n",
       "      <td>872.764098</td>\n",
       "      <td>29.503729</td>\n",
       "      <td>...</td>\n",
       "      <td>0.082428</td>\n",
       "      <td>0.020411</td>\n",
       "      <td>4165.454807</td>\n",
       "      <td>5285.022176</td>\n",
       "      <td>8054.522410</td>\n",
       "      <td>1.48986</td>\n",
       "      <td>44.574905</td>\n",
       "      <td>1232.783200</td>\n",
       "      <td>1220.783200</td>\n",
       "      <td>82.755558</td>\n",
       "    </tr>\n",
       "    <tr>\n",
       "      <th>std</th>\n",
       "      <td>3638.824134</td>\n",
       "      <td>1.957642</td>\n",
       "      <td>0.621227</td>\n",
       "      <td>1.453237</td>\n",
       "      <td>1.594345</td>\n",
       "      <td>0.915728</td>\n",
       "      <td>8.431868</td>\n",
       "      <td>8.433187</td>\n",
       "      <td>101.161818</td>\n",
       "      <td>8.433187</td>\n",
       "      <td>...</td>\n",
       "      <td>0.275034</td>\n",
       "      <td>0.141410</td>\n",
       "      <td>3210.203026</td>\n",
       "      <td>4506.081386</td>\n",
       "      <td>7342.734883</td>\n",
       "      <td>0.49993</td>\n",
       "      <td>24.239897</td>\n",
       "      <td>2.978545</td>\n",
       "      <td>2.978545</td>\n",
       "      <td>32.618328</td>\n",
       "    </tr>\n",
       "    <tr>\n",
       "      <th>min</th>\n",
       "      <td>1.000000</td>\n",
       "      <td>1.000000</td>\n",
       "      <td>1.000000</td>\n",
       "      <td>1.000000</td>\n",
       "      <td>1.000000</td>\n",
       "      <td>1.000000</td>\n",
       "      <td>15.000000</td>\n",
       "      <td>15.000000</td>\n",
       "      <td>688.000000</td>\n",
       "      <td>15.000000</td>\n",
       "      <td>...</td>\n",
       "      <td>0.000000</td>\n",
       "      <td>0.000000</td>\n",
       "      <td>64.577101</td>\n",
       "      <td>71.201194</td>\n",
       "      <td>118.656790</td>\n",
       "      <td>1.00000</td>\n",
       "      <td>1.000000</td>\n",
       "      <td>1225.000000</td>\n",
       "      <td>1213.000000</td>\n",
       "      <td>13.512667</td>\n",
       "    </tr>\n",
       "    <tr>\n",
       "      <th>25%</th>\n",
       "      <td>3105.500000</td>\n",
       "      <td>1.000000</td>\n",
       "      <td>5.000000</td>\n",
       "      <td>2.000000</td>\n",
       "      <td>5.000000</td>\n",
       "      <td>4.000000</td>\n",
       "      <td>22.000000</td>\n",
       "      <td>22.000000</td>\n",
       "      <td>787.000000</td>\n",
       "      <td>22.000000</td>\n",
       "      <td>...</td>\n",
       "      <td>0.000000</td>\n",
       "      <td>0.000000</td>\n",
       "      <td>2418.149898</td>\n",
       "      <td>2900.050198</td>\n",
       "      <td>4175.880599</td>\n",
       "      <td>1.00000</td>\n",
       "      <td>25.000000</td>\n",
       "      <td>1231.000000</td>\n",
       "      <td>1219.000000</td>\n",
       "      <td>60.527833</td>\n",
       "    </tr>\n",
       "    <tr>\n",
       "      <th>50%</th>\n",
       "      <td>6275.000000</td>\n",
       "      <td>1.000000</td>\n",
       "      <td>5.000000</td>\n",
       "      <td>3.000000</td>\n",
       "      <td>5.000000</td>\n",
       "      <td>5.000000</td>\n",
       "      <td>30.000000</td>\n",
       "      <td>30.000000</td>\n",
       "      <td>873.000000</td>\n",
       "      <td>30.000000</td>\n",
       "      <td>...</td>\n",
       "      <td>0.000000</td>\n",
       "      <td>0.000000</td>\n",
       "      <td>3410.500996</td>\n",
       "      <td>4212.069520</td>\n",
       "      <td>6553.169964</td>\n",
       "      <td>1.00000</td>\n",
       "      <td>45.000000</td>\n",
       "      <td>1233.000000</td>\n",
       "      <td>1221.000000</td>\n",
       "      <td>78.180833</td>\n",
       "    </tr>\n",
       "    <tr>\n",
       "      <th>75%</th>\n",
       "      <td>9442.000000</td>\n",
       "      <td>5.000000</td>\n",
       "      <td>5.000000</td>\n",
       "      <td>4.000000</td>\n",
       "      <td>5.000000</td>\n",
       "      <td>5.000000</td>\n",
       "      <td>37.000000</td>\n",
       "      <td>37.000000</td>\n",
       "      <td>959.500000</td>\n",
       "      <td>37.000000</td>\n",
       "      <td>...</td>\n",
       "      <td>0.000000</td>\n",
       "      <td>0.000000</td>\n",
       "      <td>4870.774756</td>\n",
       "      <td>6033.357685</td>\n",
       "      <td>9590.027246</td>\n",
       "      <td>2.00000</td>\n",
       "      <td>65.000000</td>\n",
       "      <td>1235.000000</td>\n",
       "      <td>1223.000000</td>\n",
       "      <td>99.281000</td>\n",
       "    </tr>\n",
       "    <tr>\n",
       "      <th>max</th>\n",
       "      <td>12571.000000</td>\n",
       "      <td>5.000000</td>\n",
       "      <td>5.000000</td>\n",
       "      <td>8.000000</td>\n",
       "      <td>5.000000</td>\n",
       "      <td>5.000000</td>\n",
       "      <td>44.000000</td>\n",
       "      <td>44.000000</td>\n",
       "      <td>1058.000000</td>\n",
       "      <td>44.000000</td>\n",
       "      <td>...</td>\n",
       "      <td>1.000000</td>\n",
       "      <td>1.000000</td>\n",
       "      <td>99707.832014</td>\n",
       "      <td>157143.686687</td>\n",
       "      <td>261879.953864</td>\n",
       "      <td>2.00000</td>\n",
       "      <td>84.000000</td>\n",
       "      <td>1239.000000</td>\n",
       "      <td>1227.000000</td>\n",
       "      <td>306.238000</td>\n",
       "    </tr>\n",
       "  </tbody>\n",
       "</table>\n",
       "<p>8 rows × 3086 columns</p>\n",
       "</div>"
      ],
      "text/plain": [
       "             caseid      rscrinf     rdormres     rostscrn  rscreenhisp  \\\n",
       "count   7643.000000  7643.000000  7643.000000  7643.000000  7643.000000   \n",
       "mean    6272.107811     2.589952     4.901086     3.210258     4.207641   \n",
       "std     3638.824134     1.957642     0.621227     1.453237     1.594345   \n",
       "min        1.000000     1.000000     1.000000     1.000000     1.000000   \n",
       "25%     3105.500000     1.000000     5.000000     2.000000     5.000000   \n",
       "50%     6275.000000     1.000000     5.000000     3.000000     5.000000   \n",
       "75%     9442.000000     5.000000     5.000000     4.000000     5.000000   \n",
       "max    12571.000000     5.000000     5.000000     8.000000     5.000000   \n",
       "\n",
       "       rscreenrace        age_a        age_r      cmbirth      agescrn  ...  \\\n",
       "count  7636.000000  7643.000000  7643.000000  7643.000000  7643.000000  ...   \n",
       "mean      4.543740    29.501374    29.503729   872.764098    29.503729  ...   \n",
       "std       0.915728     8.431868     8.433187   101.161818     8.433187  ...   \n",
       "min       1.000000    15.000000    15.000000   688.000000    15.000000  ...   \n",
       "25%       4.000000    22.000000    22.000000   787.000000    22.000000  ...   \n",
       "50%       5.000000    30.000000    30.000000   873.000000    30.000000  ...   \n",
       "75%       5.000000    37.000000    37.000000   959.500000    37.000000  ...   \n",
       "max       5.000000    44.000000    44.000000  1058.000000    44.000000  ...   \n",
       "\n",
       "         totincr_i   pubassis_i       basewgt  adj_mod_basewgt       finalwgt  \\\n",
       "count  7643.000000  7643.000000   7643.000000      7643.000000    7643.000000   \n",
       "mean      0.082428     0.020411   4165.454807      5285.022176    8054.522410   \n",
       "std       0.275034     0.141410   3210.203026      4506.081386    7342.734883   \n",
       "min       0.000000     0.000000     64.577101        71.201194     118.656790   \n",
       "25%       0.000000     0.000000   2418.149898      2900.050198    4175.880599   \n",
       "50%       0.000000     0.000000   3410.500996      4212.069520    6553.169964   \n",
       "75%       0.000000     0.000000   4870.774756      6033.357685    9590.027246   \n",
       "max       1.000000     1.000000  99707.832014    157143.686687  261879.953864   \n",
       "\n",
       "           secu_r         sest      cmintvw      cmlstyr    intvlngth  \n",
       "count  7643.00000  7643.000000  7643.000000  7643.000000  7643.000000  \n",
       "mean      1.48986    44.574905  1232.783200  1220.783200    82.755558  \n",
       "std       0.49993    24.239897     2.978545     2.978545    32.618328  \n",
       "min       1.00000     1.000000  1225.000000  1213.000000    13.512667  \n",
       "25%       1.00000    25.000000  1231.000000  1219.000000    60.527833  \n",
       "50%       1.00000    45.000000  1233.000000  1221.000000    78.180833  \n",
       "75%       2.00000    65.000000  1235.000000  1223.000000    99.281000  \n",
       "max       2.00000    84.000000  1239.000000  1227.000000   306.238000  \n",
       "\n",
       "[8 rows x 3086 columns]"
      ]
     },
     "execution_count": 34,
     "metadata": {},
     "output_type": "execute_result"
    }
   ],
   "source": [
    "numchild.describe()"
   ]
  },
  {
   "cell_type": "markdown",
   "metadata": {},
   "source": [
    "Here's the histogram of numchild:"
   ]
  },
  {
   "cell_type": "code",
   "execution_count": 18,
   "metadata": {},
   "outputs": [
    {
     "data": {
      "image/png": "[encoded data removed]",
      "text/plain": [
       "<Figure size 432x288 with 1 Axes>"
      ]
     },
     "metadata": {
      "needs_background": "light"
     },
     "output_type": "display_data"
    }
   ],
   "source": [
    "hist = thinkstats2.Hist(numchild.numkdhh, label='numkdhh')\n",
    "thinkplot.Hist(hist)\n",
    "thinkplot.Config(xlabel='Number of childs', ylabel='Count')"
   ]
  },
  {
   "cell_type": "markdown",
   "metadata": {},
   "source": [
    "To normalize the distribution, we could divide through by the total count:"
   ]
  },
  {
   "cell_type": "code",
   "execution_count": 19,
   "metadata": {},
   "outputs": [],
   "source": [
    "n = hist.Total()\n",
    "pmf = hist.Copy()\n",
    "for x, freq in hist.Items():\n",
    "    pmf[x] = freq / n"
   ]
  },
  {
   "cell_type": "markdown",
   "metadata": {},
   "source": [
    "The result is a Probability Mass Function (PMF)."
   ]
  },
  {
   "cell_type": "code",
   "execution_count": 20,
   "metadata": {},
   "outputs": [
    {
     "data": {
      "image/png": "[encoded data removed]",
      "text/plain": [
       "<Figure size 432x288 with 1 Axes>"
      ]
     },
     "metadata": {
      "needs_background": "light"
     },
     "output_type": "display_data"
    }
   ],
   "source": [
    "thinkplot.Hist(pmf)\n",
    "thinkplot.Config(xlabel='Number of childs', ylabel='PMF')"
   ]
  },
  {
   "cell_type": "markdown",
   "metadata": {},
   "source": [
    "the actual distribution for the number of children under 18 in the respondents' households"
   ]
  },
  {
   "cell_type": "markdown",
   "metadata": {},
   "source": [
    "we can also use the thinkstats2.Pmf to get the same result."
   ]
  },
  {
   "cell_type": "code",
   "execution_count": 22,
   "metadata": {},
   "outputs": [
    {
     "data": {
      "image/png": "[encoded data removed]",
      "text/plain": [
       "<Figure size 432x288 with 1 Axes>"
      ]
     },
     "metadata": {
      "needs_background": "light"
     },
     "output_type": "display_data"
    }
   ],
   "source": [
    "pmf = thinkstats2.Pmf(numchild.numkdhh, label='numkdhh')\n",
    "thinkplot.Hist(pmf)\n",
    "thinkplot.Config(xlabel='Number of childs', ylabel='Pmf')"
   ]
  },
  {
   "cell_type": "markdown",
   "metadata": {},
   "source": [
    "### compute the biased distribution we would see if we surveyed the children and asked them how many children under 18 (including themselves) are in their household.\n",
    "\n",
    "This function computes the biased PMF we would get if we surveyed children and asked them how many children under 18."
   ]
  },
  {
   "cell_type": "code",
   "execution_count": 23,
   "metadata": {},
   "outputs": [],
   "source": [
    "def BiasPmf(pmf, label):\n",
    "    new_pmf = pmf.Copy(label=label)\n",
    "\n",
    "    for x, p in pmf.Items():\n",
    "        new_pmf.Mult(x, x)\n",
    "        \n",
    "    new_pmf.Normalize()\n",
    "    return new_pmf"
   ]
  },
  {
   "cell_type": "markdown",
   "metadata": {},
   "source": [
    "The following graph shows the difference between the actual and observed distributions."
   ]
  },
  {
   "cell_type": "code",
   "execution_count": 24,
   "metadata": {},
   "outputs": [
    {
     "data": {
      "image/png": "[encoded data removed]",
      "text/plain": [
       "<Figure size 432x288 with 1 Axes>"
      ]
     },
     "metadata": {
      "needs_background": "light"
     },
     "output_type": "display_data"
    }
   ],
   "source": [
    "biased_pmf = BiasPmf(pmf, label='observed')\n",
    "thinkplot.PrePlot(2)\n",
    "thinkplot.Pmfs([pmf, biased_pmf])\n",
    "thinkplot.Config(xlabel='Class size', ylabel='PMF')"
   ]
  },
  {
   "cell_type": "markdown",
   "metadata": {},
   "source": [
    "The observed mean is substantially higher than the actual."
   ]
  },
  {
   "cell_type": "code",
   "execution_count": 25,
   "metadata": {},
   "outputs": [
    {
     "name": "stdout",
     "output_type": "stream",
     "text": [
      "Actual mean 1.024205155043831\n",
      "Observed mean 2.403679100664282\n"
     ]
    }
   ],
   "source": [
    "print('Actual mean', pmf.Mean())\n",
    "print('Observed mean', biased_pmf.Mean())"
   ]
  }
 ],
 "metadata": {
  "kernelspec": {
   "display_name": "Python 3",
   "language": "python",
   "name": "python3"
  },
  "language_info": {
   "codemirror_mode": {
    "name": "ipython",
    "version": 3
   },
   "file_extension": ".py",
   "mimetype": "text/x-python",
   "name": "python",
   "nbconvert_exporter": "python",
   "pygments_lexer": "ipython3",
   "version": "3.8.5"
  }
 },
 "nbformat": 4,
 "nbformat_minor": 4
}
